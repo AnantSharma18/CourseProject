{
 "cells": [
  {
   "cell_type": "code",
   "execution_count": 27,
   "metadata": {},
   "outputs": [],
   "source": [
    "import pandas as pd\n",
    "import seaborn"
   ]
  },
  {
   "cell_type": "code",
   "execution_count": 28,
   "metadata": {
    "scrolled": true
   },
   "outputs": [],
   "source": [
    "hateSpeechDF = pd.read_csv('./Data/Hate Speech and Offensive Language Dataset/Cleaned_labeled_data.csv')\n",
    "spamSmsDF = pd.read_csv('./Data/SMS Spam Dataset/Cleaned_SMSSpamCollection.csv')"
   ]
  },
  {
   "cell_type": "code",
   "execution_count": 29,
   "metadata": {},
   "outputs": [
    {
     "name": "stdout",
     "output_type": "stream",
     "text": [
      "   class       category                                               text\n",
      "0      2        Neither  !!! RT @mayasolovely: As a woman you shouldn't...\n",
      "1      1  OffensiveLang  !!!!! RT @mleew17: boy dats cold...tyga dwn ba...\n",
      "2      1  OffensiveLang  !!!!!!! RT @UrKindOfBrand Dawg!!!! RT @80sbaby...\n",
      "3      1  OffensiveLang  !!!!!!!!! RT @C_G_Anderson: @viva_based she lo...\n",
      "4      1  OffensiveLang  !!!!!!!!!!!!! RT @ShenikaRoberts: The shit you...\n"
     ]
    }
   ],
   "source": [
    "print(hateSpeechDF.head())"
   ]
  },
  {
   "cell_type": "code",
   "execution_count": 30,
   "metadata": {},
   "outputs": [
    {
     "name": "stdout",
     "output_type": "stream",
     "text": [
      "  category                                               text\n",
      "0      ham  Go until jurong point, crazy.. Available only ...\n",
      "1      ham                      Ok lar... Joking wif u oni...\n",
      "2     spam  Free entry in 2 a wkly comp to win FA Cup fina...\n",
      "3      ham  U dun say so early hor... U c already then say...\n",
      "4      ham  Nah I don't think he goes to usf, he lives aro...\n"
     ]
    }
   ],
   "source": [
    "print(spamSmsDF.head())"
   ]
  },
  {
   "cell_type": "code",
   "execution_count": 31,
   "metadata": {},
   "outputs": [],
   "source": [
    "hateSpeechDF = hateSpeechDF[[\"category\",\"text\"]].astype(str)"
   ]
  },
  {
   "cell_type": "code",
   "execution_count": 47,
   "metadata": {},
   "outputs": [
    {
     "name": "stdout",
     "output_type": "stream",
     "text": [
      "Shape of dataframe :  (24783, 2)\n",
      "Unique Categories are :  ['Neither' 'OffensiveLang' 'HateSpeech']\n",
      "Cateogory Counts are as follows\n",
      "OffensiveLang    19190\n",
      "Neither           4163\n",
      "HateSpeech        1430\n",
      "Name: category, dtype: int64\n"
     ]
    },
    {
     "data": {
      "text/plain": [
       "<matplotlib.axes._subplots.AxesSubplot at 0x7faef37baa30>"
      ]
     },
     "execution_count": 47,
     "metadata": {},
     "output_type": "execute_result"
    },
    {
     "data": {
      "image/png": "[encoded data removed]",
      "text/plain": [
       "<Figure size 360x360 with 1 Axes>"
      ]
     },
     "metadata": {},
     "output_type": "display_data"
    }
   ],
   "source": [
    "print(\"Shape of dataframe : \", hateSpeechDF.shape)\n",
    "print(\"Unique Categories are : \", hateSpeechDF['category'].unique())\n",
    "print(\"Cateogory Counts are as follows\")\n",
    "print(hateSpeechDF['category'].value_counts())\n",
    "\n",
    "hateSpeechDF['category'].value_counts().plot(kind='bar')\n"
   ]
  },
  {
   "cell_type": "code",
   "execution_count": 48,
   "metadata": {},
   "outputs": [
    {
     "name": "stdout",
     "output_type": "stream",
     "text": [
      "Shape of dataframe :  (5572, 2)\n",
      "Unique Categories are :  ['ham' 'spam']\n",
      "Cateogory Counts are as follows\n",
      "ham     4825\n",
      "spam     747\n",
      "Name: category, dtype: int64\n"
     ]
    },
    {
     "data": {
      "text/plain": [
       "<matplotlib.axes._subplots.AxesSubplot at 0x7faeee97ee20>"
      ]
     },
     "execution_count": 48,
     "metadata": {},
     "output_type": "execute_result"
    },
    {
     "data": {
      "image/png": "[encoded data removed]",
      "text/plain": [
       "<Figure size 360x360 with 1 Axes>"
      ]
     },
     "metadata": {},
     "output_type": "display_data"
    }
   ],
   "source": [
    "print(\"Shape of dataframe : \", spamSmsDF.shape)\n",
    "print(\"Unique Categories are : \", spamSmsDF['category'].unique())\n",
    "print(\"Cateogory Counts are as follows\")\n",
    "print(spamSmsDF['category'].value_counts())\n",
    "\n",
    "spamSmsDF['category'].value_counts().plot(kind='bar')"
   ]
  },
  {
   "cell_type": "code",
   "execution_count": null,
   "metadata": {},
   "outputs": [],
   "source": []
  }
 ],
 "metadata": {
  "kernelspec": {
   "display_name": "Python 3",
   "language": "python",
   "name": "python3"
  },
  "language_info": {
   "codemirror_mode": {
    "name": "ipython",
    "version": 3
   },
   "file_extension": ".py",
   "mimetype": "text/x-python",
   "name": "python",
   "nbconvert_exporter": "python",
   "pygments_lexer": "ipython3",
   "version": "3.8.2"
  }
 },
 "nbformat": 4,
 "nbformat_minor": 4
}
