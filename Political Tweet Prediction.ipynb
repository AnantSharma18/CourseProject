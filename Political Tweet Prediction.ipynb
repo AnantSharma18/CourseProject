{
 "cells": [
  {
   "cell_type": "code",
   "execution_count": 79,
   "metadata": {},
   "outputs": [],
   "source": [
    "import tweepy\n",
    "import json\n",
    "import pandas as pd\n",
    "import spacy\n",
    "import string\n",
    "import joblib\n",
    "from nltk.corpus import stopwords\n",
    "from sklearn.feature_extraction.stop_words import ENGLISH_STOP_WORDS\n",
    "from spacy.lang.en import English\n",
    "from nltk.stem.porter import PorterStemmer\n",
    "spacy.load('en')\n",
    "parser = English()"
   ]
  },
  {
   "cell_type": "markdown",
   "metadata": {},
   "source": [
    "### Twitter API Auth"
   ]
  },
  {
   "cell_type": "code",
   "execution_count": 80,
   "metadata": {},
   "outputs": [],
   "source": [
    "consumer_key= 'XXXX'\n",
    "consumer_secret= 'XXXX'\n",
    "access_token= 'XXXX'\n",
    "access_token_secret= 'XXXX'\n",
    "\n",
    "auth = tweepy.OAuthHandler(consumer_key, consumer_secret)\n",
    "auth.set_access_token(access_token, access_token_secret)\n",
    "api = tweepy.API(auth)"
   ]
  },
  {
   "cell_type": "markdown",
   "metadata": {},
   "source": [
    "### Fetch Tweets"
   ]
  },
  {
   "cell_type": "code",
   "execution_count": 81,
   "metadata": {},
   "outputs": [
    {
     "name": "stdout",
     "output_type": "stream",
     "text": [
      "RT @ekramwaris: This govt is trying hard to destroy our country like its predecessor Hindu Mahasabha. It can't protect the borders but unle…\n",
      "RT @bainjal: Instructions have gone out from the PMO that the farmers agitation should be blanked out from the media. Typical Modi headline…\n",
      "RT @ProgIntl: LIVE, AT THE HOUR: \n",
      "\n",
      "Millions of workers and farmers are striking in India.\n",
      "\n",
      "Why are they on strike? What are their demands?…\n",
      "@UnemploymentPUA Obviously no party here is putting AMERICAN LIVES FIRST. FAMILIES AND CHILDREN MUST COME AHEAD OF… https://t.co/yajnzEIdGX\n"
     ]
    }
   ],
   "source": [
    "trackingList1 = ['India', 'modi', 'BJP']\n",
    "trackingList2 = ['sports', 'cricket']\n",
    "trackList = trackingList2\n",
    "tweet_count = 0\n",
    "n_tweets = 4\n",
    "tweets_text = []\n",
    "\n",
    "\n",
    "class StdOutListener(tweepy.StreamListener):\n",
    "    def on_data(self, status):\n",
    "        global tweet_count\n",
    "        global n_tweets\n",
    "        global stream\n",
    "        if tweet_count < n_tweets:\n",
    "            if json.loads(status)['lang'] == \"en\":\n",
    "                print(json.loads(status)['text'])\n",
    "                tweets_text.append(json.loads(status)['text'])\n",
    "                tweet_count += 1\n",
    "                return True\n",
    "        else:\n",
    "            stream.disconnect()\n",
    "\n",
    "    def on_error(self, status):\n",
    "        print(status)\n",
    "\n",
    "\n",
    "stream = tweepy.Stream(auth, StdOutListener())\n",
    "stream.filter(track=tracklist)"
   ]
  },
  {
   "cell_type": "code",
   "execution_count": 82,
   "metadata": {},
   "outputs": [
    {
     "data": {
      "text/plain": [
       "[\"RT @ekramwaris: This govt is trying hard to destroy our country like its predecessor Hindu Mahasabha. It can't protect the borders but unle…\",\n",
       " 'RT @bainjal: Instructions have gone out from the PMO that the farmers agitation should be blanked out from the media. Typical Modi headline…',\n",
       " 'RT @ProgIntl: LIVE, AT THE HOUR: \\n\\nMillions of workers and farmers are striking in India.\\n\\nWhy are they on strike? What are their demands?…',\n",
       " '@UnemploymentPUA Obviously no party here is putting AMERICAN LIVES FIRST. FAMILIES AND CHILDREN MUST COME AHEAD OF… https://t.co/yajnzEIdGX']"
      ]
     },
     "execution_count": 82,
     "metadata": {},
     "output_type": "execute_result"
    }
   ],
   "source": [
    "tweets_text"
   ]
  },
  {
   "cell_type": "markdown",
   "metadata": {},
   "source": [
    "### Pre Process Retrieved Tweets"
   ]
  },
  {
   "cell_type": "code",
   "execution_count": 83,
   "metadata": {},
   "outputs": [],
   "source": [
    "STOPWORDS = set(stopwords.words('english') + list(ENGLISH_STOP_WORDS)) \n",
    "SYMBOLCHARS = \" \".join(string.punctuation).split(\" \") + [\"-\", \"...\", \"”\", \"”\",\"''\"]\n",
    "\n",
    "def tokenizeText(textData):\n",
    "\n",
    "    textData = textData.strip().replace(\"\\n\", \" \").replace(\"\\r\", \" \")\n",
    "    textData = textData.lower()\n",
    "    tokens = parser(textData)\n",
    "\n",
    "    lemmas = []\n",
    "    for tok in tokens:\n",
    "        lemmas.append(tok.lemma_.lower().strip() if tok.lemma_ != \"-PRON-\" else tok.lower_)\n",
    "    tokens = lemmas\n",
    "    \n",
    "    # Remove Stop Words\n",
    "    tokens = [tok for tok in tokens if tok.lower() not in STOPWORDS]\n",
    "    # Remove Symbols\n",
    "    tokens = [tok for tok in tokens if tok not in SYMBOLCHARS]\n",
    "    # Remove words with less than 3 characters\n",
    "    tokens = [tok for tok in tokens if len(tok) >= 3]\n",
    "    # Remove Non-Alphabetic Characters\n",
    "    tokens = [tok for tok in tokens if tok.isalpha()]\n",
    "    \n",
    "    tokens = list(set(tokens))\n",
    "    textData = ' '.join(tokens[:])\n",
    "    return textData"
   ]
  },
  {
   "cell_type": "code",
   "execution_count": 84,
   "metadata": {},
   "outputs": [
    {
     "data": {
      "text/plain": [
       "0    mahasabha unle govt protect hard trying predec...\n",
       "1    typical media instructions gone headline blank...\n",
       "2    india millions striking hour farmers workers s...\n",
       "3    putting lives families party obviously ahead a...\n",
       "dtype: object"
      ]
     },
     "execution_count": 84,
     "metadata": {},
     "output_type": "execute_result"
    }
   ],
   "source": [
    "tweets_text = pd.Series(tweets_text)\n",
    "tweets_text = tweets_text.apply(lambda x:tokenizeText(x))\n",
    "tweets_text"
   ]
  },
  {
   "cell_type": "markdown",
   "metadata": {},
   "source": [
    "### Predict Political Tweets (Indian Context)"
   ]
  },
  {
   "cell_type": "code",
   "execution_count": 85,
   "metadata": {},
   "outputs": [
    {
     "data": {
      "text/plain": [
       "0       POL\n",
       "1       POL\n",
       "2       POL\n",
       "3    NOTPOL\n",
       "dtype: object"
      ]
     },
     "execution_count": 85,
     "metadata": {},
     "output_type": "execute_result"
    }
   ],
   "source": [
    "classifier = joblib.load('./Saved Model/LR_Pol.pkl')\n",
    "predict = classifier.predict(tweets_text)\n",
    "pd.Series(predict)"
   ]
  },
  {
   "cell_type": "code",
   "execution_count": null,
   "metadata": {},
   "outputs": [],
   "source": []
  }
 ],
 "metadata": {
  "kernelspec": {
   "display_name": "Python 3",
   "language": "python",
   "name": "python3"
  },
  "language_info": {
   "codemirror_mode": {
    "name": "ipython",
    "version": 3
   },
   "file_extension": ".py",
   "mimetype": "text/x-python",
   "name": "python",
   "nbconvert_exporter": "python",
   "pygments_lexer": "ipython3",
   "version": "3.8.2"
  }
 },
 "nbformat": 4,
 "nbformat_minor": 4
}
